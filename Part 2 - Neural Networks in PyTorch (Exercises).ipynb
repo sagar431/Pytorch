{
 "cells": [
  {
   "cell_type": "markdown",
   "metadata": {},
   "source": [
    "# Neural networks with PyTorch\n",
    "\n",
    "Deep learning networks tend to be massive with dozens or hundreds of layers, that's where the term \"deep\" comes from. You can build one of these deep networks using only weight matrices as we did in the previous notebook, but in general it's very cumbersome and difficult to implement. PyTorch has a nice module `nn` that provides a nice way to efficiently build large neural networks."
   ]
  },
  {
   "cell_type": "code",
   "execution_count": 1,
   "metadata": {},
   "outputs": [],
   "source": [
    "# Import necessary packages\n",
    "\n",
    "%matplotlib inline\n",
    "%config InlineBackend.figure_format = 'retina'\n",
    "\n",
    "import numpy as np\n",
    "import torch\n",
    "\n",
    "import helper\n",
    "\n",
    "import matplotlib.pyplot as plt"
   ]
  },
  {
   "cell_type": "markdown",
   "metadata": {},
   "source": [
    "\n",
    "Now we're going to build a larger network that can solve a (formerly) difficult problem, identifying text in an image. Here we'll use the MNIST dataset which consists of greyscale handwritten digits. Each image is 28x28 pixels, you can see a sample below\n",
    "\n",
    "<img src='assets/mnist.png'>\n",
    "\n",
    "Our goal is to build a neural network that can take one of these images and predict the digit in the image.\n",
    "\n",
    "First up, we need to get our dataset. This is provided through the `torchvision` package. The code below will download the MNIST dataset, then create training and test datasets for us. Don't worry too much about the details here, you'll learn more about this later."
   ]
  },
  {
   "cell_type": "code",
   "execution_count": 2,
   "metadata": {},
   "outputs": [
    {
     "name": "stdout",
     "output_type": "stream",
     "text": [
      "Downloading http://yann.lecun.com/exdb/mnist/train-images-idx3-ubyte.gz\n",
      "Downloading http://yann.lecun.com/exdb/mnist/train-labels-idx1-ubyte.gz\n",
      "Downloading http://yann.lecun.com/exdb/mnist/t10k-images-idx3-ubyte.gz\n",
      "Downloading http://yann.lecun.com/exdb/mnist/t10k-labels-idx1-ubyte.gz\n",
      "Processing...\n",
      "Done!\n"
     ]
    }
   ],
   "source": [
    "### Run this cell\n",
    "\n",
    "from torchvision import datasets, transforms\n",
    "\n",
    "# Define a transform to normalize the data\n",
    "transform = transforms.Compose([transforms.ToTensor(),\n",
    "                              transforms.Normalize((0.5,), (0.5,)),\n",
    "                              ])\n",
    "\n",
    "# Download and load the training data\n",
    "trainset = datasets.MNIST('~/.pytorch/MNIST_data/', download=True, train=True, transform=transform)\n",
    "trainloader = torch.utils.data.DataLoader(trainset, batch_size=64, shuffle=True)"
   ]
  },
  {
   "cell_type": "markdown",
   "metadata": {},
   "source": [
    "We have the training data loaded into `trainloader` and we make that an iterator with `iter(trainloader)`. Later, we'll use this to loop through the dataset for training, like\n",
    "\n",
    "```python\n",
    "for image, label in trainloader:\n",
    "    ## do things with images and labels\n",
    "```\n",
    "\n",
    "You'll notice I created the `trainloader` with a batch size of 64, and `shuffle=True`. The batch size is the number of images we get in one iteration from the data loader and pass through our network, often called a *batch*. And `shuffle=True` tells it to shuffle the dataset every time we start going through the data loader again. But here I'm just grabbing the first batch so we can check out the data. We can see below that `images` is just a tensor with size `(64, 1, 28, 28)`. So, 64 images per batch, 1 color channel, and 28x28 images."
   ]
  },
  {
   "cell_type": "code",
   "execution_count": 3,
   "metadata": {},
   "outputs": [
    {
     "name": "stdout",
     "output_type": "stream",
     "text": [
      "<class 'torch.Tensor'>\n",
      "torch.Size([64, 1, 28, 28])\n",
      "torch.Size([64])\n"
     ]
    }
   ],
   "source": [
    "dataiter = iter(trainloader)\n",
    "images, labels = dataiter.next()\n",
    "print(type(images))\n",
    "print(images.shape)\n",
    "print(labels.shape)"
   ]
  },
  {
   "cell_type": "markdown",
   "metadata": {},
   "source": [
    "This is what one of the images looks like. "
   ]
  },
  {
   "cell_type": "code",
   "execution_count": 5,
   "metadata": {},
   "outputs": [
    {
     "data": {
      "image/png": "[encoded data removed]",
      "text/plain": [
       "<matplotlib.figure.Figure at 0x7f4b75ad3940>"
      ]
     },
     "metadata": {
      "image/png": {
       "height": 250,
       "width": 253
      },
      "needs_background": "light"
     },
     "output_type": "display_data"
    }
   ],
   "source": [
    "plt.imshow(images[1].numpy().squeeze(), cmap='Greys_r');"
   ]
  },
  {
   "cell_type": "markdown",
   "metadata": {},
   "source": [
    "First, let's try to build a simple network for this dataset using weight matrices and matrix multiplications. Then, we'll see how to do it using PyTorch's `nn` module which provides a much more convenient and powerful method for defining network architectures.\n",
    "\n",
    "The networks you've seen so far are called *fully-connected* or *dense* networks. Each unit in one layer is connected to each unit in the next layer. In fully-connected networks, the input to each layer must be a one-dimensional vector (which can be stacked into a 2D tensor as a batch of multiple examples). However, our images are 28x28 2D tensors, so we need to convert them into 1D vectors. Thinking about sizes, we need to convert the batch of images with shape `(64, 1, 28, 28)` to a have a shape of `(64, 784)`, 784 is 28 times 28. This is typically called *flattening*, we flattened the 2D images into 1D vectors.\n",
    "\n",
    "Previously you built a network with one output unit. Here we need 10 output units, one for each digit. We want our network to predict the digit shown in an image, so what we'll do is calculate probabilities that the image is of any one digit or class. This ends up being a discrete probability distribution over the classes (digits) that tells us the most likely class for the image. That means we need 10 output units for the 10 classes (digits). We'll see how to convert the network output into a probability distribution next.\n",
    "\n",
    "> **Exercise:** Flatten the batch of images `images`. Then build a multi-layer network with 784 input units, 256 hidden units, and 10 output units using random tensors for the weights and biases. For now, use a sigmoid activation for the hidden layer. Leave the output layer without an activation, we'll add one that gives us a probability distribution next."
   ]
  },
  {
   "cell_type": "code",
   "execution_count": 6,
   "metadata": {},
   "outputs": [
    {
     "name": "stdout",
     "output_type": "stream",
     "text": [
      "torch.Size([64, 10])\n",
      "tensor([[-11.8577, -17.5374,   0.9363, -12.1773, -21.3267,  14.8397,\n",
      "         -16.8177,  12.0284,  -9.6566,  -7.5151],\n",
      "        [-20.0059,  -7.3533,   1.2329,  -0.9554, -28.1048,  17.4100,\n",
      "         -21.0133,  13.4066,  -7.6155, -11.3853],\n",
      "        [ -3.7299, -16.5852,   1.0083, -21.3531, -21.7608,   8.5809,\n",
      "         -30.1692,  -1.8264,  -8.0566,  -5.6236],\n",
      "        [-15.8420, -15.4565,  -4.6362,  -6.2424, -21.1124,  13.6882,\n",
      "         -16.5641,  17.2359,   4.3687, -14.0335],\n",
      "        [-10.0278, -14.4967,  -0.0502,  -3.8281, -22.5591,  13.3932,\n",
      "         -14.8213,  12.0796,  -4.9158, -18.1893],\n",
      "        [-13.7562, -14.3591,   0.3550, -13.3975, -21.9081,   6.1942,\n",
      "         -22.5774,  16.4248, -13.3051,  -1.3081],\n",
      "        [-18.3940,  -8.6548,  -1.2002, -10.3742, -14.9418,  18.5100,\n",
      "         -26.1655,  15.1377,  -2.3388,  -9.8968],\n",
      "        [-16.9357, -20.3537,  -1.1236,  -4.9691, -23.2857,  16.4674,\n",
      "         -14.4176,  11.9983,  -5.0237,  -5.4433],\n",
      "        [-11.8355, -15.4906,   5.5111,  -5.9297, -19.7057,   5.4224,\n",
      "         -21.5594,  -4.6599, -11.6117, -11.6231],\n",
      "        [-25.2895, -15.0048,  -6.0964,  -3.5271,  -5.1137,  25.6474,\n",
      "         -22.1373,   5.3238,   1.4488,  -8.1777],\n",
      "        [-24.2962,  -4.5544,  -6.4409, -11.4679, -16.1785,  15.0537,\n",
      "         -22.6671,  15.9127,  -4.8537,   4.2359],\n",
      "        [-14.7683, -16.1399,  -6.9421, -13.3859, -21.9029,   9.7048,\n",
      "         -26.7294,  18.9742,  -1.1297, -12.4690],\n",
      "        [ -6.2445, -18.3432,  -2.0516,  -9.2911, -25.4336,  15.6694,\n",
      "         -21.8392,  17.9359,   1.1212, -18.9324],\n",
      "        [-16.1606, -12.3381,   5.4222,  -3.6307, -33.9984,  19.3509,\n",
      "         -28.7259,   5.0154,   1.9101, -19.0372],\n",
      "        [-17.4236,  -9.9604,   2.9628,  -8.0882, -28.6892,  17.0718,\n",
      "         -21.7072,  10.2746,  -4.1476, -14.3194],\n",
      "        [-14.8498, -16.9013, -16.9471,  -0.3459, -15.5609,  15.8966,\n",
      "         -14.3368,  12.0589,  -1.6140,  -4.7377],\n",
      "        [-16.9868, -16.0272,  -5.3723, -13.6268, -16.0591,  10.8623,\n",
      "         -13.9388,  11.8023,   2.1130, -15.2278],\n",
      "        [-13.7434,  -8.7202,   6.4558,   1.2042, -16.5711,   5.7477,\n",
      "         -11.3436,  -0.1327,  -0.4395, -11.0531],\n",
      "        [-15.6101, -10.7813,  -7.2502,  -9.2961, -21.9185,  18.6216,\n",
      "         -15.1557,  18.8065,   1.9453,  -4.9202],\n",
      "        [-12.1214,  -2.9873,  -0.6401,   0.2975, -19.4033,  14.8574,\n",
      "         -12.7106,   5.9453,  -0.5818, -12.4685],\n",
      "        [ -5.0765,  -9.8711,  -5.2598, -10.9075, -19.6986,   7.3442,\n",
      "         -31.8271,  11.5321,  -4.0486,  -6.5898],\n",
      "        [ -8.9794, -18.0898,   2.8477, -13.7948, -14.7046,   8.5646,\n",
      "         -14.4995,   5.0972,  -0.4728,  -7.7466],\n",
      "        [-11.1066, -12.0723,   0.8729,  -9.5007, -23.9083,  14.1734,\n",
      "         -21.3739,  15.2598,   3.0705,  -7.4106],\n",
      "        [-16.0254, -12.0361,  -0.3953,  -9.6743, -22.3401,  10.7246,\n",
      "         -15.0067,   2.0876,  -1.4159, -18.2690],\n",
      "        [-15.7895,  -4.6865,  -7.3600,  -3.4321, -23.7557,  15.4947,\n",
      "         -23.9761,  13.7041,  -5.2051, -10.1434],\n",
      "        [-13.4735, -10.4104,  -3.1183,  -1.1488, -19.9067,  14.0771,\n",
      "         -19.1548,  11.7950,  -5.8881,  -5.4861],\n",
      "        [-16.5146, -16.2389,  -0.9233, -10.8442, -21.0470,  14.3045,\n",
      "         -17.8766,   8.1738,  -3.4899, -17.1574],\n",
      "        [-20.5824, -16.1501,   2.3814, -10.8003, -21.6281,  13.8614,\n",
      "         -16.5907,   2.4713,  -3.5413, -21.2532],\n",
      "        [-10.8460, -14.3068,  -2.4700,   3.3564, -29.3991,  14.6565,\n",
      "         -13.2064,  12.1074,   0.5695, -18.5189],\n",
      "        [-16.9447, -12.1993,  -0.3256,  -8.0919, -16.0558,  21.7358,\n",
      "         -15.3284,  16.0104,  -2.7405, -10.8616],\n",
      "        [-11.2223,  -1.5046,  -0.3101,  -3.4678, -18.1962,  18.7205,\n",
      "         -27.7335,   7.6228,  -7.8176, -11.2757],\n",
      "        [-17.0594,  -7.8002,   7.0413,  -3.0109, -25.8458,  15.7732,\n",
      "         -23.9677,  -2.3555,  -7.2690,  -5.0587],\n",
      "        [ -8.6033, -21.3401,  -1.8527, -18.1929, -15.1356,  12.0128,\n",
      "         -27.6355,  12.9083,   1.9772, -16.9680],\n",
      "        [-19.8259, -10.6823,   3.2103,  -4.7518, -16.5746,  17.0887,\n",
      "         -22.6273,  14.5587,   2.4438, -16.6772],\n",
      "        [-16.8714,  -9.9442,   1.6798, -12.8949, -16.4168,  19.9084,\n",
      "         -11.5443,   7.8176,   2.2972, -14.5099],\n",
      "        [-18.3528, -10.9181,   0.8895,  -1.8604, -13.2852,  15.8338,\n",
      "         -19.4980,   8.6578, -13.3651, -12.3545],\n",
      "        [ -4.5160, -15.0213,   2.3935,  -3.0762, -26.3889,  22.7121,\n",
      "         -15.6531,  24.4719,  -1.4184,  -2.5319],\n",
      "        [ -8.5023, -14.8278,  -2.2570, -19.7154, -16.1374,   8.1832,\n",
      "         -21.6210,   7.0682,   3.1933, -16.6171],\n",
      "        [-10.2071, -10.2707,   5.6352,  -4.9336, -22.5658,  21.3450,\n",
      "         -20.4606,  11.2693, -10.6042,   5.5102],\n",
      "        [-25.6228,  -4.9266,  -7.0502,   7.6873, -25.5005,  13.5040,\n",
      "         -14.0780,  17.7374,  -9.6747,  -2.2996],\n",
      "        [-18.9967,  -9.6190,  -2.8513, -16.5702, -20.6279,  10.8182,\n",
      "         -24.5533,   1.9990,  -6.2336,  -9.7822],\n",
      "        [-18.7364, -11.4720,  -5.0128, -14.6310, -20.9729,  14.3882,\n",
      "         -17.0280,  11.2620,   3.5701, -14.0086],\n",
      "        [-16.4544,  -2.2909,  -1.5859, -11.3624, -26.4134,  18.4745,\n",
      "         -16.3894,  11.1554,  -1.3304, -18.0958],\n",
      "        [-17.7171,  -5.9500,   8.8986,  -6.7279, -36.8161,  15.8787,\n",
      "         -19.7194,   0.0836,   1.3528, -14.7121],\n",
      "        [ -8.7693, -12.5160,  -1.3036,  -9.1060, -16.7285,   9.6040,\n",
      "         -20.5443,  -4.4258,  -3.2099, -15.3098],\n",
      "        [-10.9368,  -7.1209,   2.4649, -16.2456, -10.9250,  16.0120,\n",
      "         -18.7520,   4.0525,   5.2025, -14.8300],\n",
      "        [-14.3652,  -9.3569,  -2.5215,  -6.9470, -18.0590,  17.6888,\n",
      "         -22.1564,  12.0211,   6.8533,  -8.1497],\n",
      "        [ -8.8085,  -6.3588,  -6.7795,  -7.7657, -27.4036,   7.6044,\n",
      "         -18.3059,  10.7400,  -8.1364,  -5.9671],\n",
      "        [-27.9831,  -9.7470,  -1.5133,  -1.7314, -24.3793,  18.3424,\n",
      "         -17.4572,   5.4168,  -1.0448, -10.5026],\n",
      "        [-15.2391,  -6.3885,  -5.8422,  -3.0077, -21.5678,  18.1263,\n",
      "         -19.0014,  11.7779,  -6.8153,  -9.4339],\n",
      "        [-13.2366, -17.5567,  -1.0395,  -8.8394, -22.8625,   9.2356,\n",
      "         -22.0080,  17.9130,  -1.4089, -21.2127],\n",
      "        [-14.4848, -10.0650,   3.1902,  -9.9739, -15.1158,  22.8975,\n",
      "         -14.3777,  10.8304,   1.5774, -21.0604],\n",
      "        [-16.2386,  -8.2332,   6.9168, -15.0985, -23.9926,  15.0925,\n",
      "         -24.7821,   1.7502,  -3.1620, -20.8317],\n",
      "        [ -8.5092, -12.5872,   2.7674, -18.3982, -25.2453,   9.6642,\n",
      "         -19.2457,  12.8647,   1.8020, -13.6484],\n",
      "        [-15.1722,  -9.6907,  -0.1594,  -9.2079, -24.5600,  10.6240,\n",
      "         -23.6109,  10.9579,  -5.9976,  -5.9768],\n",
      "        [-17.3978,  -7.5569,   0.9899,  -4.1685, -19.2962,  15.4020,\n",
      "         -10.6532,   0.6212,  -2.2088,  -7.8633],\n",
      "        [-18.4825, -15.3053,   8.2263, -13.6519, -14.4250,  16.9911,\n",
      "         -18.2918,   3.8390,  -1.9405,  -0.4881],\n",
      "        [-13.5250, -13.7272,  -1.1219, -11.4491, -19.5793,  11.8883,\n",
      "         -18.2044,   8.7508,  -5.3943,  -7.1301],\n",
      "        [-19.6124,  -3.6160,  -1.9894, -15.8898, -30.6468,  14.6982,\n",
      "         -23.6460,  11.5951,   3.4575, -19.7868],\n",
      "        [ -5.6508, -17.8286,   1.4478, -12.9072, -19.8100,   3.7945,\n",
      "         -28.7090,   7.2011,  -7.9136,  -9.8289],\n",
      "        [-13.9834,  -4.4980,  -2.9384,  -5.3959, -22.0551,  19.9289,\n",
      "         -18.6395,   9.2059,   3.3675, -18.8846],\n",
      "        [-12.5017, -10.3793,   2.7709,  -8.5444, -22.3438,  24.8414,\n",
      "         -14.3864,   3.2110,   4.3259, -11.7261],\n",
      "        [-23.4621, -15.2733,   5.8557, -13.7562, -15.1841,   8.9446,\n",
      "         -14.5295,   8.4771,   2.1809, -10.0439],\n",
      "        [-17.0365, -10.6900,  -2.4666, -13.1241, -21.4653,  17.0420,\n",
      "         -24.7740,  13.4327,  -6.5804,  -3.6417]])\n"
     ]
    }
   ],
   "source": [
    "## Your solution\n",
    "def activation(x):\n",
    "    return 1/(1+torch.exp(-x))\n",
    "# flatten the input images\n",
    "inputs=images.view(images.shape[0],-1)\n",
    "# create a parameter\n",
    "w1=torch.randn(784,256)\n",
    "b1=torch.randn(256)\n",
    "\n",
    "w2=torch.randn(256,10)\n",
    "b2=torch.randn(10)\n",
    "\n",
    "h=activation(torch.mm(inputs,w1)+b1)\n",
    "\n",
    "\n",
    "\n",
    "out =torch.mm(h,w2)+b2\n",
    "# output of your network, should have shape (64,10)\n",
    "print(out.shape)\n",
    "print(out)"
   ]
  },
  {
   "cell_type": "code",
   "execution_count": 10,
   "metadata": {},
   "outputs": [
    {
     "name": "stdout",
     "output_type": "stream",
     "text": [
      "tensor([[[[-1.0000, -1.0000, -1.0000,  ..., -1.0000, -1.0000, -1.0000],\n",
      "          [-1.0000, -1.0000, -1.0000,  ..., -1.0000, -1.0000, -1.0000],\n",
      "          [-1.0000, -1.0000, -1.0000,  ..., -1.0000, -1.0000, -1.0000],\n",
      "          ...,\n",
      "          [-1.0000, -1.0000, -1.0000,  ..., -1.0000, -1.0000, -1.0000],\n",
      "          [-1.0000, -1.0000, -1.0000,  ..., -1.0000, -1.0000, -1.0000],\n",
      "          [-1.0000, -1.0000, -1.0000,  ..., -1.0000, -1.0000, -1.0000]]],\n",
      "\n",
      "\n",
      "        [[[-1.0000, -1.0000, -1.0000,  ..., -1.0000, -1.0000, -1.0000],\n",
      "          [-1.0000, -1.0000, -1.0000,  ..., -1.0000, -1.0000, -1.0000],\n",
      "          [-1.0000, -1.0000, -1.0000,  ..., -1.0000, -1.0000, -1.0000],\n",
      "          ...,\n",
      "          [-1.0000, -1.0000, -1.0000,  ..., -1.0000, -1.0000, -1.0000],\n",
      "          [-1.0000, -1.0000, -1.0000,  ..., -1.0000, -1.0000, -1.0000],\n",
      "          [-1.0000, -1.0000, -1.0000,  ..., -1.0000, -1.0000, -1.0000]]],\n",
      "\n",
      "\n",
      "        [[[-1.0000, -1.0000, -1.0000,  ..., -1.0000, -1.0000, -1.0000],\n",
      "          [-1.0000, -1.0000, -1.0000,  ..., -1.0000, -1.0000, -1.0000],\n",
      "          [-1.0000, -1.0000, -1.0000,  ..., -1.0000, -1.0000, -1.0000],\n",
      "          ...,\n",
      "          [-1.0000, -1.0000, -1.0000,  ..., -1.0000, -1.0000, -1.0000],\n",
      "          [-1.0000, -1.0000, -1.0000,  ..., -1.0000, -1.0000, -1.0000],\n",
      "          [-1.0000, -1.0000, -1.0000,  ..., -1.0000, -1.0000, -1.0000]]],\n",
      "\n",
      "\n",
      "        ...,\n",
      "\n",
      "\n",
      "        [[[-1.0000, -1.0000, -1.0000,  ..., -1.0000, -1.0000, -1.0000],\n",
      "          [-1.0000, -1.0000, -1.0000,  ..., -1.0000, -1.0000, -1.0000],\n",
      "          [-1.0000, -1.0000, -1.0000,  ..., -1.0000, -1.0000, -1.0000],\n",
      "          ...,\n",
      "          [-1.0000, -1.0000, -1.0000,  ..., -1.0000, -1.0000, -1.0000],\n",
      "          [-1.0000, -1.0000, -1.0000,  ..., -1.0000, -1.0000, -1.0000],\n",
      "          [-1.0000, -1.0000, -1.0000,  ..., -1.0000, -1.0000, -1.0000]]],\n",
      "\n",
      "\n",
      "        [[[-1.0000, -1.0000, -1.0000,  ..., -1.0000, -1.0000, -1.0000],\n",
      "          [-1.0000, -1.0000, -1.0000,  ..., -1.0000, -1.0000, -1.0000],\n",
      "          [-1.0000, -1.0000, -1.0000,  ..., -1.0000, -1.0000, -1.0000],\n",
      "          ...,\n",
      "          [-1.0000, -1.0000, -1.0000,  ..., -1.0000, -1.0000, -1.0000],\n",
      "          [-1.0000, -1.0000, -1.0000,  ..., -1.0000, -1.0000, -1.0000],\n",
      "          [-1.0000, -1.0000, -1.0000,  ..., -1.0000, -1.0000, -1.0000]]],\n",
      "\n",
      "\n",
      "        [[[-1.0000, -1.0000, -1.0000,  ..., -1.0000, -1.0000, -1.0000],\n",
      "          [-1.0000, -1.0000, -1.0000,  ..., -1.0000, -1.0000, -1.0000],\n",
      "          [-1.0000, -1.0000, -1.0000,  ..., -1.0000, -1.0000, -1.0000],\n",
      "          ...,\n",
      "          [-1.0000, -1.0000, -1.0000,  ..., -1.0000, -1.0000, -1.0000],\n",
      "          [-1.0000, -1.0000, -1.0000,  ..., -1.0000, -1.0000, -1.0000],\n",
      "          [-1.0000, -1.0000, -1.0000,  ..., -1.0000, -1.0000, -1.0000]]]])\n"
     ]
    }
   ],
   "source": [
    "print(images)"
   ]
  },
  {
   "cell_type": "code",
   "execution_count": 11,
   "metadata": {},
   "outputs": [
    {
     "name": "stdout",
     "output_type": "stream",
     "text": [
      "tensor([[ 6.9319e-01,  1.7257e-01,  2.0436e+00,  ..., -1.3381e+00,\n",
      "          3.0818e+00,  9.6183e-01],\n",
      "        [-2.1273e+00,  6.1504e-01, -4.4744e-01,  ..., -2.0289e+00,\n",
      "          9.4840e-01,  1.3176e-01],\n",
      "        [-1.2349e+00,  5.8684e-01, -6.5464e-01,  ...,  1.2618e+00,\n",
      "          1.7683e+00,  1.0668e+00],\n",
      "        ...,\n",
      "        [ 1.6852e+00,  5.7457e-01, -1.3725e+00,  ..., -1.3002e-01,\n",
      "         -3.8537e-01, -1.0194e+00],\n",
      "        [-9.2962e-01,  6.0292e-01,  1.0120e-01,  ..., -9.9573e-02,\n",
      "         -2.3762e+00, -5.3882e-01],\n",
      "        [-6.5377e-01,  1.3322e+00, -1.7874e+00,  ..., -2.0930e+00,\n",
      "          1.6277e+00, -4.1411e-01]])\n"
     ]
    }
   ],
   "source": [
    "print(w1)"
   ]
  },
  {
   "cell_type": "markdown",
   "metadata": {},
   "source": [
    "Now we have 10 outputs for our network. We want to pass in an image to our network and get out a probability distribution over the classes that tells us the likely class(es) the image belongs to. Something that looks like this:\n",
    "<img src='assets/image_distribution.png' width=500px>\n",
    "\n",
    "Here we see that the probability for each class is roughly the same. This is representing an untrained network, it hasn't seen any data yet so it just returns a uniform distribution with equal probabilities for each class.\n",
    "\n",
    "To calculate this probability distribution, we often use the [**softmax** function](https://en.wikipedia.org/wiki/Softmax_function). Mathematically this looks like\n",
    "\n",
    "$$\n",
    "\\Large \\sigma(x_i) = \\cfrac{e^{x_i}}{\\sum_k^K{e^{x_k}}}\n",
    "$$\n",
    "\n",
    "What this does is squish each input $x_i$ between 0 and 1 and normalizes the values to give you a proper probability distribution where the probabilites sum up to one.\n",
    "\n",
    "> **Exercise:** Implement a function `softmax` that performs the softmax calculation and returns probability distributions for each example in the batch. Note that you'll need to pay attention to the shapes when doing this. If you have a tensor `a` with shape `(64, 10)` and a tensor `b` with shape `(64,)`, doing `a/b` will give you an error because PyTorch will try to do the division across the columns (called broadcasting) but you'll get a size mismatch. The way to think about this is for each of the 64 examples, you only want to divide by one value, the sum in the denominator. So you need `b` to have a shape of `(64, 1)`. This way PyTorch will divide the 10 values in each row of `a` by the one value in each row of `b`. Pay attention to how you take the sum as well. You'll need to define the `dim` keyword in `torch.sum`. Setting `dim=0` takes the sum across the rows while `dim=1` takes the sum across the columns."
   ]
  },
  {
   "cell_type": "code",
   "execution_count": 12,
   "metadata": {},
   "outputs": [
    {
     "name": "stdout",
     "output_type": "stream",
     "text": [
      "torch.Size([64, 10])\n",
      "tensor([ 1.0000,  1.0000,  1.0000,  1.0000,  1.0000,  1.0000,  1.0000,\n",
      "         1.0000,  1.0000,  1.0000,  1.0000,  1.0000,  1.0000,  1.0000,\n",
      "         1.0000,  1.0000,  1.0000,  1.0000,  1.0000,  1.0000,  1.0000,\n",
      "         1.0000,  1.0000,  1.0000,  1.0000,  1.0000,  1.0000,  1.0000,\n",
      "         1.0000,  1.0000,  1.0000,  1.0000,  1.0000,  1.0000,  1.0000,\n",
      "         1.0000,  1.0000,  1.0000,  1.0000,  1.0000,  1.0000,  1.0000,\n",
      "         1.0000,  1.0000,  1.0000,  1.0000,  1.0000,  1.0000,  1.0000,\n",
      "         1.0000,  1.0000,  1.0000,  1.0000,  1.0000,  1.0000,  1.0000,\n",
      "         1.0000,  1.0000,  1.0000,  1.0000,  1.0000,  1.0000,  1.0000,\n",
      "         1.0000])\n"
     ]
    }
   ],
   "source": [
    "def softmax(x):\n",
    "    ## TODO: Implement the softmax function here\n",
    "    return torch.exp(x)/torch.sum(torch.exp(x),dim=1).view(-1,1)\n",
    "\n",
    "# Here, out should be the output of the network in the previous excercise with shape (64,10)\n",
    "probabilities = softmax(out)\n",
    "\n",
    "# Does it have the right shape? Should be (64, 10)\n",
    "print(probabilities.shape)\n",
    "# Does it sum to 1?\n",
    "print(probabilities.sum(dim=1))"
   ]
  },
  {
   "cell_type": "markdown",
   "metadata": {},
   "source": [
    "## Building networks with PyTorch\n",
    "\n",
    "PyTorch provides a module `nn` that makes building networks much simpler. Here I'll show you how to build the same one as above with 784 inputs, 256 hidden units, 10 output units and a softmax output."
   ]
  },
  {
   "cell_type": "code",
   "execution_count": 13,
   "metadata": {},
   "outputs": [],
   "source": [
    "from torch import nn"
   ]
  },
  {
   "cell_type": "code",
   "execution_count": 14,
   "metadata": {},
   "outputs": [],
   "source": [
    "class Network(nn.Module):\n",
    "    def __init__(self):\n",
    "        super().__init__()\n",
    "        \n",
    "        # Inputs to hidden layer linear transformation\n",
    "        self.hidden = nn.Linear(784, 256)\n",
    "        # Output layer, 10 units - one for each digit\n",
    "        self.output = nn.Linear(256, 10)\n",
    "        \n",
    "        # Define sigmoid activation and softmax output \n",
    "        self.sigmoid = nn.Sigmoid()\n",
    "        self.softmax = nn.Softmax(dim=1)\n",
    "        \n",
    "    def forward(self, x):\n",
    "        # Pass the input tensor through each of our operations\n",
    "        x = self.hidden(x)\n",
    "        x = self.sigmoid(x)\n",
    "        x = self.output(x)\n",
    "        x = self.softmax(x)\n",
    "        \n",
    "        return x"
   ]
  },
  {
   "cell_type": "markdown",
   "metadata": {},
   "source": [
    "Let's go through this bit by bit.\n",
    "\n",
    "```python\n",
    "class Network(nn.Module):\n",
    "```\n",
    "\n",
    "Here we're inheriting from `nn.Module`. Combined with `super().__init__()` this creates a class that tracks the architecture and provides a lot of useful methods and attributes. It is mandatory to inherit from `nn.Module` when you're creating a class for your network. The name of the class itself can be anything.\n",
    "\n",
    "```python\n",
    "self.hidden = nn.Linear(784, 256)\n",
    "```\n",
    "\n",
    "This line creates a module for a linear transformation, $x\\mathbf{W} + b$, with 784 inputs and 256 outputs and assigns it to `self.hidden`. The module automatically creates the weight and bias tensors which we'll use in the `forward` method. You can access the weight and bias tensors once the network (`net`) is created with `net.hidden.weight` and `net.hidden.bias`.\n",
    "\n",
    "```python\n",
    "self.output = nn.Linear(256, 10)\n",
    "```\n",
    "\n",
    "Similarly, this creates another linear transformation with 256 inputs and 10 outputs.\n",
    "\n",
    "```python\n",
    "self.sigmoid = nn.Sigmoid()\n",
    "self.softmax = nn.Softmax(dim=1)\n",
    "```\n",
    "\n",
    "Here I defined operations for the sigmoid activation and softmax output. Setting `dim=1` in `nn.Softmax(dim=1)` calculates softmax across the columns.\n",
    "\n",
    "```python\n",
    "def forward(self, x):\n",
    "```\n",
    "\n",
    "PyTorch networks created with `nn.Module` must have a `forward` method defined. It takes in a tensor `x` and passes it through the operations you defined in the `__init__` method.\n",
    "\n",
    "```python\n",
    "x = self.hidden(x)\n",
    "x = self.sigmoid(x)\n",
    "x = self.output(x)\n",
    "x = self.softmax(x)\n",
    "```\n",
    "\n",
    "Here the input tensor `x` is passed through each operation a reassigned to `x`. We can see that the input tensor goes through the hidden layer, then a sigmoid function, then the output layer, and finally the softmax function. It doesn't matter what you name the variables here, as long as the inputs and outputs of the operations match the network architecture you want to build. The order in which you define things in the `__init__` method doesn't matter, but you'll need to sequence the operations correctly in the `forward` method.\n",
    "\n",
    "Now we can create a `Network` object."
   ]
  },
  {
   "cell_type": "code",
   "execution_count": 15,
   "metadata": {},
   "outputs": [
    {
     "data": {
      "text/plain": [
       "Network(\n",
       "  (hidden): Linear(in_features=784, out_features=256, bias=True)\n",
       "  (output): Linear(in_features=256, out_features=10, bias=True)\n",
       "  (sigmoid): Sigmoid()\n",
       "  (softmax): Softmax()\n",
       ")"
      ]
     },
     "execution_count": 15,
     "metadata": {},
     "output_type": "execute_result"
    }
   ],
   "source": [
    "# Create the network and look at it's text representation\n",
    "model = Network()\n",
    "model"
   ]
  },
  {
   "cell_type": "markdown",
   "metadata": {},
   "source": [
    "You can define the network somewhat more concisely and clearly using the `torch.nn.functional` module. This is the most common way you'll see networks defined as many operations are simple element-wise functions. We normally import this module as `F`, `import torch.nn.functional as F`."
   ]
  },
  {
   "cell_type": "code",
   "execution_count": 16,
   "metadata": {},
   "outputs": [],
   "source": [
    "import torch.nn.functional as F\n",
    "\n",
    "class Network(nn.Module):\n",
    "    def __init__(self):\n",
    "        super().__init__()\n",
    "        # Inputs to hidden layer linear transformation\n",
    "        self.hidden = nn.Linear(784, 256)\n",
    "        # Output layer, 10 units - one for each digit\n",
    "        self.output = nn.Linear(256, 10)\n",
    "        \n",
    "    def forward(self, x):\n",
    "        # Hidden layer with sigmoid activation\n",
    "        x = F.sigmoid(self.hidden(x))\n",
    "        # Output layer with softmax activation\n",
    "        x = F.softmax(self.output(x), dim=1)\n",
    "        \n",
    "        return x"
   ]
  },
  {
   "cell_type": "markdown",
   "metadata": {},
   "source": [
    "### Activation functions\n",
    "\n",
    "So far we've only been looking at the softmax activation, but in general any function can be used as an activation function. The only requirement is that for a network to approximate a non-linear function, the activation functions must be non-linear. Here are a few more examples of common activation functions: Tanh (hyperbolic tangent), and ReLU (rectified linear unit).\n",
    "\n",
    "<img src=\"assets/activation.png\" width=700px>\n",
    "\n",
    "In practice, the ReLU function is used almost exclusively as the activation function for hidden layers."
   ]
  },
  {
   "cell_type": "markdown",
   "metadata": {},
   "source": [
    "### Your Turn to Build a Network\n",
    "\n",
    "<img src=\"assets/mlp_mnist.png\" width=600px>\n",
    "\n",
    "> **Exercise:** Create a network with 784 input units, a hidden layer with 128 units and a ReLU activation, then a hidden layer with 64 units and a ReLU activation, and finally an output layer with a softmax activation as shown above. You can use a ReLU activation with the `nn.ReLU` module or `F.relu` function."
   ]
  },
  {
   "cell_type": "code",
   "execution_count": 17,
   "metadata": {
    "scrolled": true
   },
   "outputs": [
    {
     "data": {
      "text/plain": [
       "Network(\n",
       "  (fc1): Linear(in_features=784, out_features=128, bias=True)\n",
       "  (fc2): Linear(in_features=128, out_features=64, bias=True)\n",
       "  (fc3): Linear(in_features=64, out_features=10, bias=True)\n",
       ")"
      ]
     },
     "execution_count": 17,
     "metadata": {},
     "output_type": "execute_result"
    }
   ],
   "source": [
    "## Your solution here\n",
    "class Network(nn.Module):\n",
    "    def __init__(self):\n",
    "        super().__init__()\n",
    "        # Defining the layers, 128, 64, 10 units each\n",
    "        self.fc1 = nn.Linear(784, 128)\n",
    "        self.fc2 = nn.Linear(128, 64)\n",
    "        # Output layer, 10 units - one for each digit\n",
    "        self.fc3 = nn.Linear(64, 10)\n",
    "        \n",
    "    def forward(self, x):\n",
    "        ''' Forward pass through the network, returns the output logits '''\n",
    "        \n",
    "        x = self.fc1(x)\n",
    "        x = F.relu(x)\n",
    "        x = self.fc2(x)\n",
    "        x = F.relu(x)\n",
    "        x = self.fc3(x)\n",
    "        x = F.softmax(x, dim=1)\n",
    "        \n",
    "        return x\n",
    "\n",
    "model = Network()\n",
    "model\n"
   ]
  },
  {
   "cell_type": "markdown",
   "metadata": {},
   "source": [
    "### Initializing weights and biases\n",
    "\n",
    "The weights and such are automatically initialized for you, but it's possible to customize how they are initialized. The weights and biases are tensors attached to the layer you defined, you can get them with `model.fc1.weight` for instance."
   ]
  },
  {
   "cell_type": "code",
   "execution_count": 18,
   "metadata": {},
   "outputs": [
    {
     "name": "stdout",
     "output_type": "stream",
     "text": [
      "Parameter containing:\n",
      "tensor([[ 1.0652e-02, -2.0270e-02, -1.5785e-02,  ...,  2.4196e-02,\n",
      "         -3.8075e-03, -2.5478e-02],\n",
      "        [-1.0062e-02, -1.9890e-02,  3.2981e-02,  ...,  2.4161e-02,\n",
      "          3.5408e-02,  3.1287e-02],\n",
      "        [ 2.8945e-02, -3.0832e-02,  1.1059e-03,  ...,  3.4809e-02,\n",
      "         -1.6981e-02,  3.5257e-02],\n",
      "        ...,\n",
      "        [-4.6325e-03,  7.3160e-03,  3.0966e-02,  ...,  3.5651e-02,\n",
      "         -9.0064e-03, -2.4971e-02],\n",
      "        [-6.2028e-03, -8.0232e-03, -3.1245e-02,  ..., -2.9976e-02,\n",
      "          2.4576e-04,  1.2499e-02],\n",
      "        [ 1.2875e-02, -3.4193e-02, -1.2311e-02,  ...,  5.5983e-03,\n",
      "          1.9298e-02, -3.2484e-02]])\n",
      "Parameter containing:\n",
      "tensor(1.00000e-02 *\n",
      "       [-2.5479, -0.8053, -2.3775, -1.6387,  2.8396, -0.4085, -0.6022,\n",
      "         3.1652,  1.0986, -3.4610,  1.2932,  1.0114,  0.7484, -2.2844,\n",
      "         2.2660,  2.3837,  1.4812, -1.2580,  0.5932, -1.8807, -0.1894,\n",
      "         2.2061,  1.2138,  1.0233, -3.0877,  0.4021, -0.4456, -0.2286,\n",
      "        -2.7548, -1.0991,  1.7708, -0.8748, -1.8034,  3.1575, -0.0136,\n",
      "         2.9257, -2.1019, -1.4436,  3.2912, -3.4832, -1.3824, -1.7646,\n",
      "        -2.6345, -2.7112, -3.4828,  2.7003,  0.2003, -2.1027, -2.3145,\n",
      "        -3.1197, -2.1600,  2.4891,  0.4417,  2.4438,  3.3903, -0.4578,\n",
      "         3.0699, -3.1459, -0.1482,  1.8591,  3.3487, -2.7458,  3.2234,\n",
      "         1.8544,  3.0944, -0.5933,  3.5040, -2.5022, -0.1014, -2.7465,\n",
      "        -1.3224, -1.7797, -0.5651,  0.3537,  0.5962, -1.2441,  0.3702,\n",
      "        -1.3756,  3.0658, -1.2523,  1.1462, -2.7105,  3.4649, -0.7675,\n",
      "         1.4673,  2.9627,  0.8498,  0.0715,  1.7343,  2.5120, -3.0056,\n",
      "         2.4198, -2.4835, -3.2180,  1.1025,  0.0195, -1.3226, -1.2857,\n",
      "        -0.1242, -1.9923,  0.1242,  2.0509,  2.1086, -2.8396,  3.3885,\n",
      "         0.9947, -0.6856,  0.0231,  3.1801,  1.5560, -0.2584, -0.3129,\n",
      "         2.9299, -2.7470,  2.8059, -1.3084, -3.2316, -1.2088, -2.2002,\n",
      "         1.0139,  3.0689, -1.3903, -0.9307,  1.4581, -0.8187, -1.3510,\n",
      "        -1.9313, -0.6601])\n"
     ]
    }
   ],
   "source": [
    "print(model.fc1.weight)\n",
    "print(model.fc1.bias)"
   ]
  },
  {
   "cell_type": "markdown",
   "metadata": {},
   "source": [
    "For custom initialization, we want to modify these tensors in place. These are actually autograd *Variables*, so we need to get back the actual tensors with `model.fc1.weight.data`. Once we have the tensors, we can fill them with zeros (for biases) or random normal values."
   ]
  },
  {
   "cell_type": "code",
   "execution_count": 19,
   "metadata": {},
   "outputs": [
    {
     "data": {
      "text/plain": [
       "tensor([ 0.,  0.,  0.,  0.,  0.,  0.,  0.,  0.,  0.,  0.,  0.,  0.,\n",
       "         0.,  0.,  0.,  0.,  0.,  0.,  0.,  0.,  0.,  0.,  0.,  0.,\n",
       "         0.,  0.,  0.,  0.,  0.,  0.,  0.,  0.,  0.,  0.,  0.,  0.,\n",
       "         0.,  0.,  0.,  0.,  0.,  0.,  0.,  0.,  0.,  0.,  0.,  0.,\n",
       "         0.,  0.,  0.,  0.,  0.,  0.,  0.,  0.,  0.,  0.,  0.,  0.,\n",
       "         0.,  0.,  0.,  0.,  0.,  0.,  0.,  0.,  0.,  0.,  0.,  0.,\n",
       "         0.,  0.,  0.,  0.,  0.,  0.,  0.,  0.,  0.,  0.,  0.,  0.,\n",
       "         0.,  0.,  0.,  0.,  0.,  0.,  0.,  0.,  0.,  0.,  0.,  0.,\n",
       "         0.,  0.,  0.,  0.,  0.,  0.,  0.,  0.,  0.,  0.,  0.,  0.,\n",
       "         0.,  0.,  0.,  0.,  0.,  0.,  0.,  0.,  0.,  0.,  0.,  0.,\n",
       "         0.,  0.,  0.,  0.,  0.,  0.,  0.,  0.])"
      ]
     },
     "execution_count": 19,
     "metadata": {},
     "output_type": "execute_result"
    }
   ],
   "source": [
    "# Set biases to all zeros\n",
    "model.fc1.bias.data.fill_(0)"
   ]
  },
  {
   "cell_type": "code",
   "execution_count": 20,
   "metadata": {},
   "outputs": [
    {
     "data": {
      "text/plain": [
       "tensor([[-1.3093e-02, -5.5096e-04,  5.8942e-03,  ...,  4.0260e-04,\n",
       "         -2.5920e-02, -3.0143e-03],\n",
       "        [ 9.3112e-03,  1.3606e-02, -1.0233e-03,  ...,  8.0572e-03,\n",
       "          1.2325e-02, -7.3337e-03],\n",
       "        [ 6.4147e-03, -1.0278e-02,  3.8927e-04,  ...,  1.0649e-02,\n",
       "         -6.1851e-03,  4.2439e-03],\n",
       "        ...,\n",
       "        [ 1.7348e-02, -3.2313e-02,  1.8502e-02,  ...,  4.7246e-04,\n",
       "          1.0380e-03,  5.5453e-03],\n",
       "        [-6.0328e-03,  6.7827e-03, -1.2340e-02,  ...,  1.0299e-02,\n",
       "          4.6066e-05, -6.2587e-03],\n",
       "        [ 7.0320e-03,  5.4180e-03, -2.1283e-04,  ...,  1.2066e-02,\n",
       "         -1.0095e-02,  2.6423e-03]])"
      ]
     },
     "execution_count": 20,
     "metadata": {},
     "output_type": "execute_result"
    }
   ],
   "source": [
    "# sample from random normal with standard dev = 0.01\n",
    "model.fc1.weight.data.normal_(std=0.01)"
   ]
  },
  {
   "cell_type": "markdown",
   "metadata": {},
   "source": [
    "### Forward pass\n",
    "\n",
    "Now that we have a network, let's see what happens when we pass in an image."
   ]
  },
  {
   "cell_type": "code",
   "execution_count": 21,
   "metadata": {},
   "outputs": [
    {
     "data": {
      "image/png": "[encoded data removed]",
      "text/plain": [
       "<matplotlib.figure.Figure at 0x7f4bcf684470>"
      ]
     },
     "metadata": {
      "image/png": {
       "height": 224,
       "width": 423
      },
      "needs_background": "light"
     },
     "output_type": "display_data"
    }
   ],
   "source": [
    "# Grab some data \n",
    "dataiter = iter(trainloader)\n",
    "images, labels = dataiter.next()\n",
    "\n",
    "# Resize images into a 1D vector, new shape is (batch size, color channels, image pixels) \n",
    "images.resize_(64, 1, 784)\n",
    "# or images.resize_(images.shape[0], 1, 784) to automatically get batch size\n",
    "\n",
    "# Forward pass through the network\n",
    "img_idx = 0\n",
    "ps = model.forward(images[img_idx,:])\n",
    "\n",
    "img = images[img_idx]\n",
    "helper.view_classify(img.view(1, 28, 28), ps)"
   ]
  },
  {
   "cell_type": "markdown",
   "metadata": {},
   "source": [
    "As you can see above, our network has basically no idea what this digit is. It's because we haven't trained it yet, all the weights are random!\n",
    "\n",
    "### Using `nn.Sequential`\n",
    "\n",
    "PyTorch provides a convenient way to build networks like this where a tensor is passed sequentially through operations, `nn.Sequential` ([documentation](https://pytorch.org/docs/master/nn.html#torch.nn.Sequential)). Using this to build the equivalent network:"
   ]
  },
  {
   "cell_type": "code",
   "execution_count": 22,
   "metadata": {},
   "outputs": [
    {
     "name": "stdout",
     "output_type": "stream",
     "text": [
      "Sequential(\n",
      "  (0): Linear(in_features=784, out_features=128, bias=True)\n",
      "  (1): ReLU()\n",
      "  (2): Linear(in_features=128, out_features=64, bias=True)\n",
      "  (3): ReLU()\n",
      "  (4): Linear(in_features=64, out_features=10, bias=True)\n",
      "  (5): Softmax()\n",
      ")\n"
     ]
    },
    {
     "data": {
      "image/png": "[encoded data removed]",
      "text/plain": [
       "<matplotlib.figure.Figure at 0x7f4b725b66d8>"
      ]
     },
     "metadata": {
      "image/png": {
       "height": 224,
       "width": 423
      },
      "needs_background": "light"
     },
     "output_type": "display_data"
    }
   ],
   "source": [
    "# Hyperparameters for our network\n",
    "input_size = 784\n",
    "hidden_sizes = [128, 64]\n",
    "output_size = 10\n",
    "\n",
    "# Build a feed-forward network\n",
    "model = nn.Sequential(nn.Linear(input_size, hidden_sizes[0]),\n",
    "                      nn.ReLU(),\n",
    "                      nn.Linear(hidden_sizes[0], hidden_sizes[1]),\n",
    "                      nn.ReLU(),\n",
    "                      nn.Linear(hidden_sizes[1], output_size),\n",
    "                      nn.Softmax(dim=1))\n",
    "print(model)\n",
    "\n",
    "# Forward pass through the network and display output\n",
    "images, labels = next(iter(trainloader))\n",
    "images.resize_(images.shape[0], 1, 784)\n",
    "ps = model.forward(images[0,:])\n",
    "helper.view_classify(images[0].view(1, 28, 28), ps)"
   ]
  },
  {
   "cell_type": "markdown",
   "metadata": {},
   "source": [
    "Here our model is the same as before: 784 input units, a hidden layer with 128 units, ReLU activation, 64 unit hidden layer, another ReLU, then the output layer with 10 units, and the softmax output.\n",
    "\n",
    "The operations are availble by passing in the appropriate index. For example, if you want to get first Linear operation and look at the weights, you'd use `model[0]`."
   ]
  },
  {
   "cell_type": "code",
   "execution_count": 23,
   "metadata": {},
   "outputs": [
    {
     "name": "stdout",
     "output_type": "stream",
     "text": [
      "Linear(in_features=784, out_features=128, bias=True)\n"
     ]
    },
    {
     "data": {
      "text/plain": [
       "Parameter containing:\n",
       "tensor(1.00000e-02 *\n",
       "       [[ 0.7856, -0.3816, -3.0617,  ...,  0.2729,  3.2263,  0.6433],\n",
       "        [ 1.9597, -1.7871, -2.3131,  ...,  0.3106,  2.1549, -2.2260],\n",
       "        [ 0.1141,  2.3629,  2.7823,  ...,  1.1114, -1.4371, -2.7817],\n",
       "        ...,\n",
       "        [-2.9807,  2.9370,  1.8548,  ..., -1.7240, -1.4217, -0.4903],\n",
       "        [-1.0991,  0.0374,  0.5181,  ..., -1.9726,  2.9672, -2.2577],\n",
       "        [-0.5746, -0.5101,  2.1806,  ...,  0.4594, -0.2564, -0.2448]])"
      ]
     },
     "execution_count": 23,
     "metadata": {},
     "output_type": "execute_result"
    }
   ],
   "source": [
    "print(model[0])\n",
    "model[0].weight"
   ]
  },
  {
   "cell_type": "markdown",
   "metadata": {},
   "source": [
    "You can also pass in an `OrderedDict` to name the individual layers and operations, instead of using incremental integers. Note that dictionary keys must be unique, so _each operation must have a different name_."
   ]
  },
  {
   "cell_type": "code",
   "execution_count": 24,
   "metadata": {},
   "outputs": [
    {
     "data": {
      "text/plain": [
       "Sequential(\n",
       "  (fc1): Linear(in_features=784, out_features=128, bias=True)\n",
       "  (relu1): ReLU()\n",
       "  (fc2): Linear(in_features=128, out_features=64, bias=True)\n",
       "  (relu2): ReLU()\n",
       "  (output): Linear(in_features=64, out_features=10, bias=True)\n",
       "  (softmax): Softmax()\n",
       ")"
      ]
     },
     "execution_count": 24,
     "metadata": {},
     "output_type": "execute_result"
    }
   ],
   "source": [
    "from collections import OrderedDict\n",
    "model = nn.Sequential(OrderedDict([\n",
    "                      ('fc1', nn.Linear(input_size, hidden_sizes[0])),\n",
    "                      ('relu1', nn.ReLU()),\n",
    "                      ('fc2', nn.Linear(hidden_sizes[0], hidden_sizes[1])),\n",
    "                      ('relu2', nn.ReLU()),\n",
    "                      ('output', nn.Linear(hidden_sizes[1], output_size)),\n",
    "                      ('softmax', nn.Softmax(dim=1))]))\n",
    "model"
   ]
  },
  {
   "cell_type": "markdown",
   "metadata": {},
   "source": [
    "Now you can access layers either by integer or the name"
   ]
  },
  {
   "cell_type": "code",
   "execution_count": 25,
   "metadata": {},
   "outputs": [
    {
     "name": "stdout",
     "output_type": "stream",
     "text": [
      "Linear(in_features=784, out_features=128, bias=True)\n",
      "Linear(in_features=784, out_features=128, bias=True)\n"
     ]
    }
   ],
   "source": [
    "print(model[0])\n",
    "print(model.fc1)"
   ]
  },
  {
   "cell_type": "markdown",
   "metadata": {},
   "source": [
    "In the next notebook, we'll see how we can train a neural network to accuractly predict the numbers appearing in the MNIST images."
   ]
  },
  {
   "cell_type": "code",
   "execution_count": null,
   "metadata": {},
   "outputs": [],
   "source": []
  }
 ],
 "metadata": {
  "kernelspec": {
   "display_name": "Python 3",
   "language": "python",
   "name": "python3"
  },
  "language_info": {
   "codemirror_mode": {
    "name": "ipython",
    "version": 3
   },
   "file_extension": ".py",
   "mimetype": "text/x-python",
   "name": "python",
   "nbconvert_exporter": "python",
   "pygments_lexer": "ipython3",
   "version": "3.6.3"
  }
 },
 "nbformat": 4,
 "nbformat_minor": 2
}
